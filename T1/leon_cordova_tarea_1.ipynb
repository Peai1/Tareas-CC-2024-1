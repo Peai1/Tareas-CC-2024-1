{
 "cells": [
  {
   "cell_type": "markdown",
   "id": "5965150c-7b80-49e0-9267-9560754c152d",
   "metadata": {},
   "source": [
    "<center>\n",
    "    <img src=\"http://sct.inf.utfsm.cl/wp-content/uploads/2020/04/logo_di.png\" style=\"width:60%\">\n",
    "    <h1> INF285 - Computación Científica </h1>\n",
    "    <h2> Tarea 1 - Código Base</h2>\n",
    "    <h2> [S]cientific [C]omputing [T]eam </a> </h2>\n",
    "    <h2> 2024-1</h2>\n",
    "</center>"
   ]
  },
  {
   "cell_type": "markdown",
   "id": "2fc283ff-723a-409e-a198-4bea80ca2388",
   "metadata": {},
   "source": [
    "# Consultas\n",
    "\n",
    "* Enviar a: **tareas.inf285@gmail.com**\n",
    "* Se recibirán consultas en **tres** bloques. i) El primer bloque será desde las 12:15 hrs. hasta las 17:00 hrs. del día jueves, donde todas las preguntas recibidas dentro de este bloque se responderán con seguridad a partir de las 17:01 hrs. del día jueves. (ii) El segundo bloque de consultas será desde las 17:01 hrs. del día jueves hasta las 08:15 hrs. del día viernes, donde las preguntas recibidas dentro de este bloque horario se responderán con seguridad a partir de las 08:16 hrs. del día viernes. (iii) El tercer, y último bloque, de consultas será desde las 08:16 hrs. hasta las 14:30 hrs. del día viernes, donde las preguntas recibidas dentro de este bloque horario se responderán con seguridad a partir de las 14:31 hrs. del día viernes."
   ]
  },
  {
   "cell_type": "markdown",
   "id": "4beec7f5-9da4-498a-831f-8b229ce4bb9d",
   "metadata": {},
   "source": [
    "# Librerías (no utilizar liberías adicionales)"
   ]
  },
  {
   "cell_type": "code",
   "execution_count": 1,
   "id": "ff73dff5-ef8e-4f2d-b551-07dc88ffa520",
   "metadata": {},
   "outputs": [],
   "source": [
    "import numpy as np\n",
    "import matplotlib.pyplot as plt"
   ]
  },
  {
   "cell_type": "markdown",
   "id": "d8c06b3c-8ee8-40d2-9406-f43f4bf87a83",
   "metadata": {},
   "source": [
    "# Contexto\n",
    "\n",
    "Consideremos la siguiente función:\n",
    "\n",
    "$$\n",
    "f(x) = 2\\,\\exp(x)\\,\\sin(2\\,x)^2\n",
    "$$\n",
    "\n",
    "A continuación se muestra una gráfica de la función:"
   ]
  },
  {
   "cell_type": "code",
   "execution_count": 2,
   "id": "578902ae-bdbc-4666-8a61-0cd795ff5624",
   "metadata": {},
   "outputs": [
    {
     "data": {
      "image/png": "[encoded data removed]",
      "text/plain": [
       "<Figure size 500x500 with 1 Axes>"
      ]
     },
     "metadata": {},
     "output_type": "display_data"
    }
   ],
   "source": [
    "f = lambda x: 2.*np.exp(x)*np.power(np.sin(2.*x),2)\n",
    "\n",
    "plt.figure(figsize=(5,5))\n",
    "x = np.linspace(2.,5.,100)\n",
    "y = f(x)\n",
    "plt.plot(x,y,'b-', label='$f(x)$', markersize=10)\n",
    "plt.grid(True)\n",
    "plt.xlabel(r'$x$')\n",
    "plt.xticks(np.arange(2.,5.,.4))\n",
    "plt.legend(loc='best')\n",
    "plt.show()"
   ]
  },
  {
   "cell_type": "markdown",
   "id": "9761e88f-e5d6-48a5-ad4f-f1200e587cc3",
   "metadata": {},
   "source": [
    "Podemos notar que en el intervalo $[2.8,4.8]$ la función tiene dos raíces. Analicemos primero el intervalo $[2.8,3.6]$, en este caso, si aplicamos el método de la Bisección tenemos que $f(2.8)\\,f(3.6) > 0$, por lo tanto, el método falla y no inicia una búsqueda de la raíz. Lo mismo sucede en el intervalo $[4.4,4.8]$. Lo podemos verificar, ejecutando el método de la Bisección en los intervalos indicados."
   ]
  },
  {
   "cell_type": "markdown",
   "id": "d3305180-7215-4780-92f8-69f6a64667bf",
   "metadata": {},
   "source": [
    "# Funciones Entregadas (No debe modificarlas)"
   ]
  },
  {
   "cell_type": "code",
   "execution_count": 3,
   "id": "38a180ea-5c32-41b5-8b5d-1dfc7f12f2d3",
   "metadata": {},
   "outputs": [],
   "source": [
    "def bisect(f, a, b, tol=1e-12):\n",
    "    \"\"\"\n",
    "    input:\n",
    "    f   : (callable) function to evaluate.\n",
    "    a   : (double)   left value of interval.\n",
    "    b   : (double)   right value of interval.\n",
    "    tol : (double)   tolerance.\n",
    "    \n",
    "    output:\n",
    "    xc  : (double)   root approximation of f. \n",
    "    \"\"\"\n",
    "    fa = f(a)\n",
    "    fb = f(b)\n",
    "    i = 0\n",
    "    if np.sign(fa*fb) > 0:\n",
    "        return None\n",
    "    \n",
    "    while((b-a)/2 > tol):\n",
    "        c = (a+b)/2\n",
    "        fc = f(c)\n",
    "        if fc == 0:\n",
    "            break\n",
    "        elif np.sign(fa*fc) < 0:\n",
    "            b = c\n",
    "            fb = fc\n",
    "        else:\n",
    "            a = c\n",
    "            fa = fc\n",
    "        i += 1\n",
    "    xc = (a + b)/2\n",
    "    return xc"
   ]
  },
  {
   "cell_type": "markdown",
   "id": "14f9de12-b599-4bf6-8df7-921c3cda1dcd",
   "metadata": {},
   "source": [
    "Ejecutamos el método de la Bisección en el intervalo $[2.8,3.6]$:"
   ]
  },
  {
   "cell_type": "code",
   "execution_count": 4,
   "id": "4c8761cf-17e6-41d2-bf4e-b5516a47f79e",
   "metadata": {},
   "outputs": [
    {
     "data": {
      "text/plain": [
       "True"
      ]
     },
     "execution_count": 4,
     "metadata": {},
     "output_type": "execute_result"
    }
   ],
   "source": [
    "bisect(f,2.8,3.6) == None"
   ]
  },
  {
   "cell_type": "markdown",
   "id": "ffd657eb-6961-44aa-9e9f-819364fb07a5",
   "metadata": {},
   "source": [
    "Ejecutamos el método de la Bisección en el intervalo $[4.4,4.8]$:"
   ]
  },
  {
   "cell_type": "code",
   "execution_count": 5,
   "id": "7e0747ad-623b-4d18-8dee-d2800c87406f",
   "metadata": {},
   "outputs": [
    {
     "data": {
      "text/plain": [
       "True"
      ]
     },
     "execution_count": 5,
     "metadata": {},
     "output_type": "execute_result"
    }
   ],
   "source": [
    "bisect(f,4.4,4.8) == None"
   ]
  },
  {
   "cell_type": "markdown",
   "id": "960c8c60-575f-47a0-ab36-e72478018136",
   "metadata": {},
   "source": [
    "# Búsqueda de puntos críticos!\n",
    "\n",
    "Una solución para el problema anterior, es abordarlo como una búsqueda de puntos críticos, es decir, encontrar los puntos donde la derivada de la función es igual a $0$. Podemos notar, que en el intervalo $[2.8,4.8]$ existen dos puntos críticos, los cuales son a su vez las raíces de $f(x)$!"
   ]
  },
  {
   "cell_type": "markdown",
   "id": "001c1de3-5126-4218-80a6-aab7252b42bf",
   "metadata": {},
   "source": [
    "# Pregunta 1.\n",
    "\n",
    "Utilice el método de la Bisección para encontrar un punto crítico de una función $f(x)$ en un intervalo $[a,b]$. Para abordar este problema utilice la siguiente aproximación para la derivada de $f(x)$ en el punto $x$ denominada *diferencia finita central*:\n",
    "\n",
    "$$\n",
    "f'(x) \\approx \\dfrac{f(x + h) - f(x - h)}{2h}\n",
    "$$\n",
    "\n",
    "donde $h$ es el paso de la aproximación."
   ]
  },
  {
   "cell_type": "markdown",
   "id": "d63a494b-bd2c-4832-bc41-32c6f416d092",
   "metadata": {},
   "source": [
    "1.1 (10 puntos) Construya la aproximación de la derivada para una función $f(x)$."
   ]
  },
  {
   "cell_type": "code",
   "execution_count": 6,
   "id": "3398dfbf-847c-4287-bda3-b03fc54d15a1",
   "metadata": {},
   "outputs": [],
   "source": [
    "def fp(f,x,h):\n",
    "    \"\"\"\n",
    "    input:\n",
    "    f   : (callable) function to evaluate.\n",
    "    x   : (double)   point where the derivative is approximated.\n",
    "    h   : (double)   approximation step.\n",
    "    \n",
    "    output:\n",
    "    yp  : (double)   derivative approximation of f at x. \n",
    "    \"\"\"\n",
    "    #acá va su codigo\n",
    "    #--------------------------------\n",
    "    yp = (f(x+h)-f(x-h))/(2*h)\n",
    "    #--------------------------------\n",
    "    return yp"
   ]
  },
  {
   "cell_type": "markdown",
   "id": "6d76230b-0337-46e8-80c9-1d815325b66d",
   "metadata": {},
   "source": [
    "1.2 (25 puntos) Construya un algoritmo que utilice el método de la Bisección, y permita encontrar un punto crítico $x_c$ para una función $f(x)$ en el intervalo $[a,b]$ con un paso de aproximación $h$. En caso de que el punto no sea encontrado, debe retornar **None**.\n",
    "\n",
    "*Hint: your implementation must call the bisection method provided.*"
   ]
  },
  {
   "cell_type": "code",
   "execution_count": 7,
   "id": "2918b3ce-7d50-4df9-a620-cb143e2c553e",
   "metadata": {},
   "outputs": [],
   "source": [
    "def critical_point(f, a, b, h, tol_cp=1e-12):\n",
    "    \"\"\"\n",
    "    input:\n",
    "    f      : (callable) function to evaluate.\n",
    "    a      : (double)   left value of interval.\n",
    "    b      : (double)   right value of interval.\n",
    "    h      : (double)   approximation step.\n",
    "    tol_cp : (double)   tolerance for the critical point approximation.\n",
    "    \n",
    "    output:\n",
    "    xc  : (double)   critical point approximation of f in the interval [a,b].\n",
    "    \"\"\"\n",
    "    #acá va su codigo\n",
    "    #--------------------------------\n",
    "    f_bisec = lambda x: fp(f,x,h)\n",
    "\n",
    "    xc = bisect(f_bisec,a,b,tol_cp)\n",
    "    #--------------------------------\n",
    "    return xc"
   ]
  },
  {
   "cell_type": "markdown",
   "id": "85ef9476-30ec-40d5-b855-7098fbd56b86",
   "metadata": {},
   "source": [
    "1.3 (5 puntos) Determine la raíz $r_1$ para la función $f(x) = 2\\,\\exp(x)\\,\\sin(2\\,x)^2$ en el intervalo $[2.8,3.6]$ con $h = 10^{-6}$."
   ]
  },
  {
   "cell_type": "code",
   "execution_count": 8,
   "id": "b1802fe2-0556-4bca-85d0-247d5ff56646",
   "metadata": {},
   "outputs": [
    {
     "data": {
      "text/plain": [
       "3.1415926535897603"
      ]
     },
     "execution_count": 8,
     "metadata": {},
     "output_type": "execute_result"
    }
   ],
   "source": [
    "#acá va su codigo\n",
    "#--------------------------------\n",
    "a = 2.8\n",
    "b = 3.6\n",
    "h = 1e-6\n",
    "critical_point(f,a,b,h)\n",
    "#--------------------------------"
   ]
  },
  {
   "cell_type": "markdown",
   "id": "6ba544bb-f13b-488d-8fea-7db5a10ff178",
   "metadata": {},
   "source": [
    "1.4 (5 puntos) Seleccione un valor para $h$ en función de la siguiente gráfica, que muestra la relación entre $h$ y el error relativo de la raíz $r_1$. Justifique su respuesta."
   ]
  },
  {
   "cell_type": "code",
   "execution_count": 9,
   "id": "08e34c77-a317-46a2-b474-e2da6a1ccd06",
   "metadata": {},
   "outputs": [
    {
     "data": {
      "image/png": "[encoded data removed]",
      "text/plain": [
       "<Figure size 500x500 with 1 Axes>"
      ]
     },
     "metadata": {},
     "output_type": "display_data"
    }
   ],
   "source": [
    "h = np.logspace(-19,-1,20)\n",
    "cp = lambda h: critical_point(f,a,b,h)\n",
    "cp_vec = np.vectorize(cp)\n",
    "cp_arr = cp_vec(h)\n",
    "error_rel = np.abs(cp_arr - np.pi)/np.pi\n",
    "\n",
    "plt.figure(figsize=(5,5))\n",
    "plt.loglog(h,error_rel,'b.', label=r'$\\dfrac{|\\tilde{r}_h - r|}{|r|}$', markersize=10)\n",
    "plt.grid(True)\n",
    "plt.xlabel(r'$h$')\n",
    "plt.ylabel('error relativo')\n",
    "plt.legend(loc='best')\n",
    "plt.show()"
   ]
  },
  {
   "cell_type": "markdown",
   "id": "b216581c-05d4-4c2a-8dfd-85ae98c7ef23",
   "metadata": {},
   "source": [
    "Escriba su justificación de la elección de $h$:\n",
    "\n",
    "**---------------------------------------------------------------------------------------------------------------------------**\n",
    "\n",
    "**Respuesta:** Aquí se busca un valor de $h$ que minimize el error relativo de la raíz $r_1$, de la gráfica podemos observar que para los valores que se muestran en los puntos azules de aproximadamente $10^{-15} \\leq h \\leq 10^{-7}$ se obtiene el menor valor relativo con aproximadamente $10^{-14}$, por lo que un valor de h puede ser $h \\approx 10^{-11}$ aproximadamente, pero cualquiera de estos valores servirá para minimizar el error (aquellos puntos azules mencionados anteriormente).\n",
    "\n",
    "**---------------------------------------------------------------------------------------------------------------------------**"
   ]
  },
  {
   "cell_type": "markdown",
   "id": "33031f7f-f2f2-45c5-abbf-59cf308c023c",
   "metadata": {},
   "source": [
    "# Pregunta 2."
   ]
  },
  {
   "cell_type": "markdown",
   "id": "09ad2d36-5666-4021-bf4e-c69ee9ff7163",
   "metadata": {},
   "source": [
    "Sea la función $f_1(x) = \\exp(x)\\,((x - 2.5)^2 - 1.5)$. Podemos observar que la función en el intervalo $[0,4]$ tiene dos raíces $r_1$ y $r_2$ con multiplicidad $1$. "
   ]
  },
  {
   "cell_type": "code",
   "execution_count": 10,
   "id": "6427fb4b-f69a-4335-82d3-995935fd5f57",
   "metadata": {},
   "outputs": [
    {
     "data": {
      "image/png": "[encoded data removed]",
      "text/plain": [
       "<Figure size 500x500 with 1 Axes>"
      ]
     },
     "metadata": {},
     "output_type": "display_data"
    }
   ],
   "source": [
    "f1 = lambda x: np.exp(x)*(np.power(x - 2.5,2) - 1.5)\n",
    "\n",
    "plt.figure(figsize=(5,5))\n",
    "x = np.linspace(0.,4.,200)\n",
    "y = f1(x)\n",
    "plt.plot(x,y,'b-', label='$f_1(x)$', markersize=10)\n",
    "plt.grid(True)\n",
    "plt.xlabel(r'$x$')\n",
    "plt.legend(loc='best')\n",
    "plt.show()"
   ]
  },
  {
   "cell_type": "markdown",
   "id": "f42c9781-ae76-4d1b-b22c-12799eb5d411",
   "metadata": {},
   "source": [
    "2.1 (30 puntos) Considere que ahora usted dispone de una función $f(x)$ en un intervalo $[a,b]$, tal que existen dos raíces $r_1$ y $r_2$ con multiplicidad $1$ y solamente un punto crítico $x_c$ en $[a,b]$ tal que $f'(x_c) = 0$. Construya un algoritmo que permita encontrar ambas raíces basado en el método de la Bisección. En caso de que no sea posible encontrar las raíces, debe retornar **None** para $r_1$ y $r_2$.\n",
    "\n",
    "*Hint: it would be very useful to use the algorithm implemented before, i.e. critical_point, within your code.*"
   ]
  },
  {
   "cell_type": "code",
   "execution_count": 11,
   "id": "6767f873-36ef-4942-b944-882477517877",
   "metadata": {},
   "outputs": [],
   "source": [
    "def both_roots(f,a,b,h,tol=1e-12):\n",
    "    \"\"\"\n",
    "    input:\n",
    "    f   : (callable) function to evaluate.\n",
    "    a   : (double)   left value of interval.\n",
    "    b   : (double)   right value of interval.\n",
    "    h   : (double)   approximation step.\n",
    "    tol : (double)   tolerance.\n",
    "    \n",
    "    output:\n",
    "    r1  : (double)   approximation of root r1.\n",
    "    r2  : (double)   approximation of root r2.\n",
    "    \"\"\"\n",
    "    #acá va su codigo\n",
    "    #--------------------------------\n",
    "    xc = critical_point(f,a,b,h)\n",
    "    r1 = bisect(f,a,xc,tol)\n",
    "    r2 = bisect(f,xc,b,tol)\n",
    "    if r1 == None or r2 == None:\n",
    "        r1 = None\n",
    "        r2 = None\n",
    "    #--------------------------------\n",
    "    return r1,r2"
   ]
  },
  {
   "cell_type": "markdown",
   "id": "b14d0542-fb72-4acf-9ec6-2243e4ec3560",
   "metadata": {},
   "source": [
    "2.2 (5 puntos) Determine las raíces $r_1$ y $r_2$ en el intervalo $[0,4]$ para $f_1(x)$."
   ]
  },
  {
   "cell_type": "code",
   "execution_count": 12,
   "id": "a87f0d35-e727-4baf-b1c4-dd92255bc37f",
   "metadata": {},
   "outputs": [
    {
     "data": {
      "text/plain": [
       "(1.275255128608068, 3.7247448713915006)"
      ]
     },
     "execution_count": 12,
     "metadata": {},
     "output_type": "execute_result"
    }
   ],
   "source": [
    "#acá va su codigo\n",
    "#--------------------------------\n",
    "a = 0.\n",
    "b = 4.\n",
    "h = 1e-6\n",
    "both_roots(f1,a,b,h)\n",
    "#--------------------------------"
   ]
  },
  {
   "cell_type": "markdown",
   "id": "a865f473-3262-4cd4-9ec9-1dbaae494848",
   "metadata": {},
   "source": [
    "2.3 Sea la función $f_2(x) = 0.5\\,\\exp(x)\\,\\sin(3x)^2 - 10$. Ejecute el algoritmo *both_roots* para encontrar las raíces $r_1$ y $r_2$ en el intervalo $[0,4]$, es decir, ejecute el siguiente código:"
   ]
  },
  {
   "cell_type": "code",
   "execution_count": 13,
   "id": "4701a152-9456-4e43-be0d-757ec613ca03",
   "metadata": {},
   "outputs": [
    {
     "data": {
      "text/plain": [
       "(None, None)"
      ]
     },
     "execution_count": 13,
     "metadata": {},
     "output_type": "execute_result"
    }
   ],
   "source": [
    "f2 = lambda x: .5*np.exp(x)*np.power(np.sin(3.*x),2) - 10.\n",
    "h = 1e-7\n",
    "both_roots(f2,0.,4.,h)"
   ]
  },
  {
   "cell_type": "markdown",
   "id": "e2329d5a-28a5-44c1-aede-7d0e6b4e7290",
   "metadata": {},
   "source": [
    "2.4 (10 puntos) ¿Ha encontrado las raíces $r_1$ y $r_2$? Si no es así, ¿Cómo usted debería ejecutar el algoritmo *both_roots* para encontrar ambas raíces?\n",
    "\n",
    "*Hint 1: it would helpful to observe $f_2(x)$ on the interval of interest.*\n",
    "\n",
    "*Hint 2: Do you observe any issues with the number of critical points available?*"
   ]
  },
  {
   "cell_type": "markdown",
   "id": "7a0364d9-1e94-4ffe-9327-0b52392434d1",
   "metadata": {},
   "source": [
    "**---------------------------------------------------------------------------------------------------------------------------**\n",
    "\n",
    "**Respuesta:** Ejecutando el algoritmo *both_roots* con la función $f_2(x)$ se obtiene que para las raices $r_1$ y $r_2$ tienen un valor **None**, esto ya que al observar el gráfico en el intervalo $[0.,4.]$, se puede ver que existen 4 puntos críticos y no 1. El punto crítico que se obtiene y se utiliza para separar el intervalo inicial en dos con el punto crítico siendo la separación tiene un valor de aproximadamente $3.1415$, por lo que se realiza bisección entre el intervalo $[0.,3.1415]$ y $[3.1415,4.0]$ (en la función *both_roots*). Al realizar la primera evaluación $f(a)*f(b)$ se obtiene que en ambas bisecciones realizadas esta multiplicación es positiva, por lo que no existe el cambio de signo necesario para poder aplicar el metodo de la bisección y retorna **None**\n",
    "\n",
    "Se puede hacer que el algoritmo encuentra ambas raíces ejecutando el algoritmo entre un valor $a = 3.3$ y el valor $b = 4.$ en donde existe solamente un punto crítico y se encuentran ambas raíces. Ejecutando entonces both_roots en este intervalo, se puede apreciar a continuación como se encuentra ambas raíces. También se presenta el gráfico de la función.\n",
    "\n",
    "**---------------------------------------------------------------------------------------------------------------------------**"
   ]
  },
  {
   "cell_type": "code",
   "execution_count": 14,
   "id": "3254d12f-ada5-4f72-a247-5b65e8490065",
   "metadata": {},
   "outputs": [
    {
     "data": {
      "image/png": "[encoded data removed]",
      "text/plain": [
       "<Figure size 500x500 with 1 Axes>"
      ]
     },
     "metadata": {},
     "output_type": "display_data"
    },
    {
     "data": {
      "text/plain": [
       "(3.4491207099038808, 3.967994372635488)"
      ]
     },
     "execution_count": 14,
     "metadata": {},
     "output_type": "execute_result"
    }
   ],
   "source": [
    "#acá va su codigo\n",
    "#--------------------------------\n",
    "plt.figure(figsize=(5,5))\n",
    "x = np.linspace(0.,4.,200)\n",
    "y = f2(x)\n",
    "plt.plot(x,y,'b-', label='$f_2(x)$', markersize=10)\n",
    "plt.axvline(x=3.3, color='r', linestyle='--', label='x = 3.3')\n",
    "plt.grid(True)\n",
    "plt.xlabel(r'$x$')\n",
    "plt.legend(loc='best')\n",
    "plt.show()\n",
    "both_roots(f2,3.3,4.,h)\n",
    "#--------------------------------"
   ]
  }
 ],
 "metadata": {
  "kernelspec": {
   "display_name": "Python 3 (ipykernel)",
   "language": "python",
   "name": "python3"
  },
  "language_info": {
   "codemirror_mode": {
    "name": "ipython",
    "version": 3
   },
   "file_extension": ".py",
   "mimetype": "text/x-python",
   "name": "python",
   "nbconvert_exporter": "python",
   "pygments_lexer": "ipython3",
   "version": "3.12.2"
  }
 },
 "nbformat": 4,
 "nbformat_minor": 5
}
